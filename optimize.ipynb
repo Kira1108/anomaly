{
 "cells": [
  {
   "cell_type": "code",
   "execution_count": 1,
   "metadata": {},
   "outputs": [],
   "source": [
    "\n",
    "# !pip install pillow\n",
    "import requests\n",
    "from PIL import Image\n",
    "import io\n",
    "import base64\n",
    "import json\n",
    "\n",
    "\n",
    "def read_b64(path):\n",
    "    # Open image\n",
    "    img = Image.open(path)\n",
    "    # Create a BytesIO object\n",
    "    img_byte_arr = io.BytesIO()\n",
    "    # Save image to the BytesIO object\n",
    "    img.save(img_byte_arr, format='PNG')\n",
    "    # Get the byte array of the image\n",
    "    img_byte_arr = img_byte_arr.getvalue()\n",
    "    # Convert the byte array to a base64 string\n",
    "    img_b64 = base64.b64encode(img_byte_arr).decode('utf-8')\n",
    "    \n",
    "    return img_b64\n",
    "\n",
    "image_path = \"/Users/wanghuan/Projects/anomaly/hx_client/test_data/WechatIMG1537.jpg\"\n",
    "content_id = \"这就特么是个唯一id\"\n",
    "\n",
    "resp = requests.post(\"http://localhost:8004/image/all\", \n",
    "                     json={\"image\": read_b64(image_path), \n",
    "                           \"ip_address\" :content_id})\n",
    "\n",
    "print(resp.json())"
   ]
  },
  {
   "cell_type": "code",
   "execution_count": 10,
   "metadata": {},
   "outputs": [
    {
     "data": {
      "text/plain": [
       "<Response [200]>"
      ]
     },
     "execution_count": 10,
     "metadata": {},
     "output_type": "execute_result"
    }
   ],
   "source": [
    "import requests\n",
    "\n",
    "texts = ['我日狗，狗日我，我们都操他妈有病']\n",
    "content_id = \"我特么是一个网站id\"\n",
    "\n",
    "resp = requests.post(\"http://localhost:8004/text/dfa\",json={\"text\": texts,\"ip_address\": content_id})\n",
    "\n",
    "print(resp.json())"
   ]
  },
  {
   "cell_type": "code",
   "execution_count": 9,
   "metadata": {},
   "outputs": [
    {
     "data": {
      "text/plain": [
       "{'result': [{'text': '我日狗，狗日我，我们都操他妈有病',\n",
       "   'sensitive': True,\n",
       "   'sensitive_words': ['我日', '狗日', '操他']}]}"
      ]
     },
     "execution_count": 9,
     "metadata": {},
     "output_type": "execute_result"
    }
   ],
   "source": [
    "resp.json()"
   ]
  },
  {
   "cell_type": "code",
   "execution_count": 12,
   "metadata": {},
   "outputs": [
    {
     "data": {
      "text/plain": [
       "{'image_content_id': '0d707527e7f7909f667a20e16e81abad',\n",
       " 'is_sensitive': False,\n",
       " 'sex_result': {'drawings': 31.0814,\n",
       "  'hentai': 8.9694,\n",
       "  'neutral': 58.9792,\n",
       "  'porn': 0.6097,\n",
       "  'sexy': 0.3603},\n",
       " 'text_result': [{'text': '浏览', 'sensitive': False, 'sensitive_words': []},\n",
       "  {'text': '女性历史月', 'sensitive': False, 'sensitive_words': []},\n",
       "  {'text': 'Alpha：她引领声浪', 'sensitive': False, 'sensitive_words': []},\n",
       "  {'text': 'Apple Music', 'sensitive': False, 'sensitive_words': []}],\n",
       " 'window_result': False}"
      ]
     },
     "execution_count": 12,
     "metadata": {},
     "output_type": "execute_result"
    }
   ],
   "source": [
    "resp = requests.post(\"http://localhost:8004/image/all\", json={\"image\": read_b64(\"/Users/wanghuan/Projects/anomaly/client/tests/test.png\"), \"ip_address\" :'234234343'})\n",
    "resp.json()"
   ]
  },
  {
   "cell_type": "code",
   "execution_count": null,
   "metadata": {},
   "outputs": [
    {
     "data": {
      "text/plain": [
       "{'image_content_id': '3c6887aa59f76c64a6259c66087df6ac',\n",
       " 'is_sensitive': False,\n",
       " 'sex_result': {'drawings': 31.0814,\n",
       "  'hentai': 8.9694,\n",
       "  'neutral': 58.9792,\n",
       "  'porn': 0.6097,\n",
       "  'sexy': 0.3603},\n",
       " 'text_result': [{'text': '浏览', 'sensitive': False, 'sensitive_words': []},\n",
       "  {'text': '女性历史月', 'sensitive': False, 'sensitive_words': []},\n",
       "  {'text': 'Alpha：她引领声浪', 'sensitive': False, 'sensitive_words': []},\n",
       "  {'text': 'Apple Music', 'sensitive': False, 'sensitive_words': []}],\n",
       " 'window_result': False}"
      ]
     },
     "execution_count": 134,
     "metadata": {},
     "output_type": "execute_result"
    }
   ],
   "source": []
  },
  {
   "cell_type": "code",
   "execution_count": 135,
   "metadata": {},
   "outputs": [
    {
     "data": {
      "text/plain": [
       "True"
      ]
     },
     "execution_count": 135,
     "metadata": {},
     "output_type": "execute_result"
    }
   ],
   "source": [
    "import redis\n",
    "\n",
    "r = redis.Redis(host='localhost', port=6379, db=0, password = \"eYVX7EwVmmxKPCDmwMtyKVge8oLd2t81\")\n",
    "r.flushall()"
   ]
  },
  {
   "cell_type": "code",
   "execution_count": 65,
   "metadata": {},
   "outputs": [],
   "source": [
    "def redis_load(key):\n",
    "    return json.loads(r.get(key).decode('utf-8').replace(\"'\", \"\"))\n",
    "\n",
    "def redis_dump(key, value):\n",
    "    r.set(key, json.dumps(value))"
   ]
  },
  {
   "cell_type": "code",
   "execution_count": 77,
   "metadata": {},
   "outputs": [],
   "source": [
    "redis_dump(\"cao\", {1:3,\"a\":\"b\"})"
   ]
  },
  {
   "cell_type": "code",
   "execution_count": 80,
   "metadata": {},
   "outputs": [
    {
     "data": {
      "text/plain": [
       "3"
      ]
     },
     "execution_count": 80,
     "metadata": {},
     "output_type": "execute_result"
    }
   ],
   "source": [
    "redis_load(\"cao\")['1']"
   ]
  },
  {
   "cell_type": "code",
   "execution_count": 81,
   "metadata": {},
   "outputs": [
    {
     "name": "stdout",
     "output_type": "stream",
     "text": [
      "{'key1': 'value1', 'key2': 'value2'}\n"
     ]
    }
   ],
   "source": [
    "import json\n",
    "\n",
    "# Your Python dictionary\n",
    "dict_data = {\"key1\": \"value1\", \"key2\": \"value2\"}\n",
    "\n",
    "# Convert the dictionary to a JSON string and store it in Redis\n",
    "r.set('my_key', json.dumps(dict_data))\n",
    "\n",
    "# Get the value from Redis, decode it to a string, and parse the JSON string to a dictionary\n",
    "value = json.loads(r.get('my_key').decode('utf-8'))\n",
    "\n",
    "# Now 'value' is the original Python dictionary\n",
    "print(value)  # Output: {\"key1\": \"value1\", \"key2\": \"value2\"}"
   ]
  },
  {
   "cell_type": "code",
   "execution_count": 82,
   "metadata": {},
   "outputs": [],
   "source": [
    "def dump_redis(key:str,d:dict):\n",
    "    r.set(key, json.dumps(d))\n",
    "    return True\n",
    "\n",
    "def load_redis(key:str):\n",
    "    return json.loads(r.get(key).decode('utf-8'))"
   ]
  },
  {
   "cell_type": "code",
   "execution_count": 83,
   "metadata": {},
   "outputs": [
    {
     "data": {
      "text/plain": [
       "True"
      ]
     },
     "execution_count": 83,
     "metadata": {},
     "output_type": "execute_result"
    }
   ],
   "source": [
    "dump_redis('nimabi',{1:3,3:5})"
   ]
  },
  {
   "cell_type": "code",
   "execution_count": null,
   "metadata": {},
   "outputs": [],
   "source": []
  }
 ],
 "metadata": {
  "kernelspec": {
   "display_name": "base",
   "language": "python",
   "name": "python3"
  },
  "language_info": {
   "codemirror_mode": {
    "name": "ipython",
    "version": 3
   },
   "file_extension": ".py",
   "mimetype": "text/x-python",
   "name": "python",
   "nbconvert_exporter": "python",
   "pygments_lexer": "ipython3",
   "version": "3.10.9"
  }
 },
 "nbformat": 4,
 "nbformat_minor": 2
}
